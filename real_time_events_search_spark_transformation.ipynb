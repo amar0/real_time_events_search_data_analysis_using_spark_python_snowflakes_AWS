{
	"metadata": {
		"kernelspec": {
			"name": "glue_pyspark",
			"display_name": "Glue PySpark",
			"language": "python"
		},
		"language_info": {
			"name": "Python_Glue_Session",
			"mimetype": "text/x-python",
			"codemirror_mode": {
				"name": "python",
				"version": 3
			},
			"pygments_lexer": "python3",
			"file_extension": ".py"
		}
	},
	"nbformat_minor": 4,
	"nbformat": 4,
	"cells": [
		{
			"cell_type": "markdown",
			"source": "# AWS Glue Studio Notebook",
			"metadata": {
				"editable": true,
				"trusted": true
			}
		},
		{
			"cell_type": "code",
			"source": "%idle_timeout 2880\n%glue_version 5.0\n%worker_type G.1X\n%number_of_workers 5\n\nimport sys\nfrom awsglue.transforms import *\nfrom awsglue.utils import getResolvedOptions\nfrom pyspark.context import SparkContext\nfrom awsglue.context import GlueContext\nfrom awsglue.job import Job\n  \nsc = SparkContext.getOrCreate()\nglueContext = GlueContext(sc)\nspark = glueContext.spark_session\njob = Job(glueContext)",
			"metadata": {
				"trusted": true,
				"editable": true
			},
			"execution_count": 4,
			"outputs": [
				{
					"name": "stderr",
					"text": "You are already connected to a glueetl session aad93249-523d-4cf6-978f-8f06e53eaa60.\n\nNo change will be made to the current session that is set as glueetl. The session configuration change will apply to newly created sessions.\n",
					"output_type": "stream"
				},
				{
					"name": "stdout",
					"text": "Current idle_timeout is 2880 minutes.\nidle_timeout has been set to 2880 minutes.\n",
					"output_type": "stream"
				},
				{
					"name": "stderr",
					"text": "You are already connected to a glueetl session aad93249-523d-4cf6-978f-8f06e53eaa60.\n\nNo change will be made to the current session that is set as glueetl. The session configuration change will apply to newly created sessions.\n",
					"output_type": "stream"
				},
				{
					"name": "stdout",
					"text": "Setting Glue version to: 5.0\n",
					"output_type": "stream"
				},
				{
					"name": "stderr",
					"text": "You are already connected to a glueetl session aad93249-523d-4cf6-978f-8f06e53eaa60.\n\nNo change will be made to the current session that is set as glueetl. The session configuration change will apply to newly created sessions.\n",
					"output_type": "stream"
				},
				{
					"name": "stdout",
					"text": "Previous worker type: G.1X\nSetting new worker type to: G.1X\n",
					"output_type": "stream"
				},
				{
					"name": "stderr",
					"text": "You are already connected to a glueetl session aad93249-523d-4cf6-978f-8f06e53eaa60.\n\nNo change will be made to the current session that is set as glueetl. The session configuration change will apply to newly created sessions.\n",
					"output_type": "stream"
				},
				{
					"name": "stdout",
					"text": "Previous number of workers: 5\nSetting new number of workers to: 5\n\n",
					"output_type": "stream"
				}
			]
		},
		{
			"cell_type": "code",
			"source": "from pyspark.sql.functions import *\nfrom datetime import datetime\nfrom awsglue.dynamicframe import DynamicFrame",
			"metadata": {
				"trusted": true,
				"tags": []
			},
			"execution_count": 2,
			"outputs": [
				{
					"name": "stdout",
					"text": "\n",
					"output_type": "stream"
				}
			]
		},
		{
			"cell_type": "code",
			"source": "s3_path = \"s3://real-time-events-search-amar/raw_data/to_process/\"",
			"metadata": {
				"trusted": true,
				"tags": []
			},
			"execution_count": 3,
			"outputs": [
				{
					"name": "stdout",
					"text": "\n",
					"output_type": "stream"
				}
			]
		},
		{
			"cell_type": "code",
			"source": "source_dyf = glueContext.create_dynamic_frame.from_options(\n    connection_type=\"s3\",\n    format=\"json\",\n    connection_options={\"paths\": [s3_path]},\n    format_options={\"withHeader\": True},\n    transformation_ctx=\"source_dyf\"\n)",
			"metadata": {
				"trusted": true,
				"tags": []
			},
			"execution_count": 5,
			"outputs": [
				{
					"name": "stdout",
					"text": "\n",
					"output_type": "stream"
				}
			]
		},
		{
			"cell_type": "code",
			"source": "real_time_events_df = source_dyf.toDF()",
			"metadata": {
				"trusted": true,
				"tags": []
			},
			"execution_count": 6,
			"outputs": [
				{
					"name": "stdout",
					"text": "/usr/lib/spark/python/lib/pyspark.zip/pyspark/sql/dataframe.py:147: UserWarning: DataFrame constructor is internal. Do not directly use it.\n",
					"output_type": "stream"
				}
			]
		},
		{
			"cell_type": "code",
			"source": "real_time_events_df.show(2)",
			"metadata": {
				"trusted": true,
				"tags": []
			},
			"execution_count": 7,
			"outputs": [
				{
					"name": "stdout",
					"text": "+------+--------------------+--------------------+--------------------+\n|status|          request_id|          parameters|                data|\n+------+--------------------+--------------------+--------------------+\n|    OK|fb21b62f-a4fa-43b...|{concerts in indi...|[{L2F1dGhvcml0eS9...|\n+------+--------------------+--------------------+--------------------+\n",
					"output_type": "stream"
				}
			]
		},
		{
			"cell_type": "code",
			"source": "test_df = real_time_events_df",
			"metadata": {
				"trusted": true,
				"tags": []
			},
			"execution_count": 8,
			"outputs": [
				{
					"name": "stdout",
					"text": "\n",
					"output_type": "stream"
				}
			]
		},
		{
			"cell_type": "code",
			"source": "test_df.withColumn(\"data\", explode(\"data\")).show(5, False)",
			"metadata": {
				"trusted": true,
				"tags": []
			},
			"execution_count": 8,
			"outputs": [
				{
					"name": "stdout",
					"text": "+------+------------------------------------+----------------------------------+----------------------------------------------------------------------------------------------------------------------------------------------------------------------------------------------------------------------------------------------------------------------------------------------------------------------------------------------------------------------------------------------------------------------------------------------------------------------------------------------------------------------------------------------------------------------------------------------------------------------------------------------------------------------------------------------------------------------------------------------------------------------------------------------------------------------------------------------------------------------------------------------------------------------------------------------------------------------------------------------------------------------------------------------------------------------------------------------------------------------------------------------------------------------------------------------------------------------------------------------------------------------------------------------------------------------------------------------------------------------------------------------------------------------------------------------------------------------------------------------------------------------------------------------------------------------------------------------------------------------------------------------------------------------------------------------------------------------------------------------------------------------------------------------------------------------------------------------------------------------------------------------------------------------------------------------------------------------------------------------------------------------------------------------------------------------------------------------------------------------------------------------------------------------------------------------------------------------------------------------------------------------------------------------------------------------------------------------------------------------------------------------------------------------------------------------------------------------------------------------------------+\n|status|request_id                          |parameters                        |data                                                                                                                                                                                                                                                                                                                                                                                                                                                                                                                                                                                                                                                                                                                                                                                                                                                                                                                                                                                                                                                                                                                                                                                                                                                                                                                                                                                                                                                                                                                                                                                                                                                                                                                                                                                                                                                                                                                                                                                                                                                                                                                                                                                                                                                                                                                                                                                                                                                                                                      |\n+------+------------------------------------+----------------------------------+----------------------------------------------------------------------------------------------------------------------------------------------------------------------------------------------------------------------------------------------------------------------------------------------------------------------------------------------------------------------------------------------------------------------------------------------------------------------------------------------------------------------------------------------------------------------------------------------------------------------------------------------------------------------------------------------------------------------------------------------------------------------------------------------------------------------------------------------------------------------------------------------------------------------------------------------------------------------------------------------------------------------------------------------------------------------------------------------------------------------------------------------------------------------------------------------------------------------------------------------------------------------------------------------------------------------------------------------------------------------------------------------------------------------------------------------------------------------------------------------------------------------------------------------------------------------------------------------------------------------------------------------------------------------------------------------------------------------------------------------------------------------------------------------------------------------------------------------------------------------------------------------------------------------------------------------------------------------------------------------------------------------------------------------------------------------------------------------------------------------------------------------------------------------------------------------------------------------------------------------------------------------------------------------------------------------------------------------------------------------------------------------------------------------------------------------------------------------------------------------------------+\n|OK    |fb21b62f-a4fa-43b6-88d0-c5f56ddf8e66|{concerts in india, false, any, 0}|{L2F1dGhvcml0eS9ob3Jpem9uL2NsdXN0ZXJlZF9ldmVudC8yMDI1LTAxLTIxfDE1ODg5ODE4Njc1MjU2MzYyMzgz, Coldplay: Music Of The Spheres World Tour, https://open.spotify.com/concert/533w7zYTqm5FpqaNvpVR6I, Find tickets for Coldplay at D Y Patil Sports Stadium in Navi Mumbai on 1/21/2025 at 6:00 PM, en, Tue, Jan 21, 6 PM – Wed, Jan 22, 12 AM GMT+5:30, 2025-01-21 18:00:00, 2025-01-21 12:30:00, 1, 2025-01-22 00:00:00, 2025-01-21 18:30:00, 1, false, https://encrypted-tbn0.gstatic.com/images?q=tbn:ANd9GcTj_Lc8w91Yg_lKnUKx_Karq8FCQZlap7vQ0CHsLDz8lHEcObMiltyCd6ejQA&s=10, Spotify.com, https://encrypted-tbn2.gstatic.com/faviconV2?url=https://open.spotify.com&client=HORIZON&size=96&type=FAVICON&fallback_opts=TYPE,SIZE,URL&nfrp=2, open.spotify.com, [{Spotify.com, https://open.spotify.com/concert/533w7zYTqm5FpqaNvpVR6I, https://encrypted-tbn2.gstatic.com/faviconV2?url=https://spotify.com&client=HORIZON&size=96&type=FAVICON&fallback_opts=TYPE,SIZE,URL&nfrp=2}, {Bandsintown.com, https://www.bandsintown.com/t/105973574?came_from=209, https://encrypted-tbn3.gstatic.com/faviconV2?url=https://bandsintown.com&client=HORIZON&size=96&type=FAVICON&fallback_opts=TYPE,SIZE,URL&nfrp=2}, {Ticketwarehouse.com, https://www.ticketwarehouse.com/events/rock-and-pop-tickets/2766610/coldplay-2025-01-21-00-00-00, https://encrypted-tbn1.gstatic.com/faviconV2?url=https://ticketwarehouse.com&client=HORIZON&size=96&type=FAVICON&fallback_opts=TYPE,SIZE,URL&nfrp=2}, {Ticketsource.com, https://www.ticketsource.com/2766610/Coldplay, https://encrypted-tbn0.gstatic.com/faviconV2?url=https://ticketsource.com&client=HORIZON&size=96&type=FAVICON&fallback_opts=TYPE,SIZE,URL&nfrp=2}, {Topstartickets.com, http://www.topstartickets.com/Event/Coldplay-D-Y-Patil-Sports-Stadium-2025-01-21-00-00-00-Tickets, https://encrypted-tbn2.gstatic.com/faviconV2?url=http://topstartickets.com&client=HORIZON&size=96&type=FAVICON&fallback_opts=TYPE,SIZE,URL&nfrp=2}], [{Spotify.com, https://open.spotify.com/concert/533w7zYTqm5FpqaNvpVR6I}], {0x3be7c3c53b1e255b:0x3fa8b73a42118233, D Y Patil Sports Stadium, +919920367847, https://dypatilstadium.com, 15105, 4.5, Stadium, [Stadium], D Y Patil Sports Stadium, Sector 7, Nerul, Navi Mumbai, Maharashtra 400706, India, 19.0420838, 73.0267849, Sector 7, Nerul, NULL, Navi Mumbai, 400706, Maharashtra, IN, Asia/Calcutta, /m/0263rsl, NULL}}                                                                            |\n|OK    |fb21b62f-a4fa-43b6-88d0-c5f56ddf8e66|{concerts in india, false, any, 0}|{L2F1dGhvcml0eS9ob3Jpem9uL2NsdXN0ZXJlZF9ldmVudC8yMDI1LTAzLTA4fDEyODk3NzQ5NTQ2MjgxMjMxMjcz, Shawn Mendes, https://www.songkick.com/metro-areas/34859-india-mumbai/genre/folk, Folk & Blues Concerts in Mumbai Find tickets to all live music, concerts, tour dates and festivals in and around Mumbai. Currently there is 1 upcoming event., en, Sat, Mar 8, 7 – 11 PM GMT+5:30, 2025-03-08 19:00:00, 2025-03-08 13:30:00, 1, 2025-03-08 23:00:00, 2025-03-08 17:30:00, 1, false, https://encrypted-tbn0.gstatic.com/images?q=tbn:ANd9GcRBXMHzyIavJOeRL9p-YyWux9UyAmqxkJwt51774UI_xcPC-C_f6gn8RQiToA&s=10, Songkick, https://encrypted-tbn2.gstatic.com/faviconV2?url=https://www.songkick.com&client=HORIZON&size=96&type=FAVICON&fallback_opts=TYPE,SIZE,URL&nfrp=2, www.songkick.com, [{Spotify.com, https://open.spotify.com/concert/22zqjccaRK7pXHOW1LTsOq, https://encrypted-tbn2.gstatic.com/faviconV2?url=https://spotify.com&client=HORIZON&size=96&type=FAVICON&fallback_opts=TYPE,SIZE,URL&nfrp=2}, {Songkick.com, http://www.songkick.com/concerts/42161747-shawn-mendes-at-unknown-venue?utm_medium=organic&utm_source=microformat, https://encrypted-tbn1.gstatic.com/faviconV2?url=http://songkick.com&client=HORIZON&size=96&type=FAVICON&fallback_opts=TYPE,SIZE,URL&nfrp=2}, {The New Times, https://www.newtimes.co.rw/events?_evDiscoveryPath=/event/105932033n-shawn-mendes-lollapalooza-india-2025, https://encrypted-tbn3.gstatic.com/faviconV2?url=https://newtimes.co.rw&client=HORIZON&size=96&type=FAVICON&fallback_opts=TYPE,SIZE,URL&nfrp=2}, {Shazam, https://www.shazam.com/event/e12dd2f7-cdec-42a3-b4ce-b217fdc458e8, https://encrypted-tbn2.gstatic.com/faviconV2?url=https://shazam.com&client=HORIZON&size=96&type=FAVICON&fallback_opts=TYPE,SIZE,URL&nfrp=2}, {Bandsintown, https://www.bandsintown.com/e/105932033-shawn-mendes-at-lollapalooza-india, https://encrypted-tbn3.gstatic.com/faviconV2?url=https://bandsintown.com&client=HORIZON&size=96&type=FAVICON&fallback_opts=TYPE,SIZE,URL&nfrp=2}], [{Spotify.com, https://open.spotify.com/concert/22zqjccaRK7pXHOW1LTsOq}], {0x3be7cf0047f73b9f:0x4ae408c2ececde3e, Lollapalooza India, NULL, NULL, 13, 4.6, Event venue, [Event venue], XRMC+P28 Lollapalooza India, Royal Western India Turf Club, Mahalakshmi, Mumbai, Maharashtra 400018, India, 18.984292099999998, 72.8200768, Royal Western India Turf Club, Mahalakshmi, XRMC+P28, Mumbai, NULL, Maharashtra, IN, Asia/Calcutta, /g/11lcypt211, 28}}|\n|OK    |fb21b62f-a4fa-43b6-88d0-c5f56ddf8e66|{concerts in india, false, any, 0}|{L2F1dGhvcml0eS9ob3Jpem9uL2NsdXN0ZXJlZF9ldmVudC8yMDI1LTAxLTE5fDQ3NTMwODAyNjcxOTIwNzQzODc=, Coldplay, https://open.spotify.com/concert/05iM34wganAzG1FBMA7ApW, Find tickets for Coldplay at D Y Patil Sports Stadium in Navi Mumbai on 1/19/2025 at 6:00 PM, en, Sun, Jan 19, 6 – 10 PM GMT+5:30, 2025-01-19 18:00:00, 2025-01-19 12:30:00, 1, 2025-01-19 22:00:00, 2025-01-19 16:30:00, 1, false, https://encrypted-tbn0.gstatic.com/images?q=tbn:ANd9GcTj_Lc8w91Yg_lKnUKx_Karq8FCQZlap7vQ0CHsLDz8lHEcObMiltyCd6ejQA&s=10, Spotify.com, https://encrypted-tbn2.gstatic.com/faviconV2?url=https://open.spotify.com&client=HORIZON&size=96&type=FAVICON&fallback_opts=TYPE,SIZE,URL&nfrp=2, open.spotify.com, [{Spotify.com, https://open.spotify.com/concert/05iM34wganAzG1FBMA7ApW, https://encrypted-tbn2.gstatic.com/faviconV2?url=https://spotify.com&client=HORIZON&size=96&type=FAVICON&fallback_opts=TYPE,SIZE,URL&nfrp=2}, {Bandsintown.com, https://www.bandsintown.com/t/105973573?came_from=209, https://encrypted-tbn3.gstatic.com/faviconV2?url=https://bandsintown.com&client=HORIZON&size=96&type=FAVICON&fallback_opts=TYPE,SIZE,URL&nfrp=2}, {Ticketwarehouse.com, https://www.ticketwarehouse.com/events/rock-and-pop-tickets/2766609/coldplay-2025-01-19-00-00-00, https://encrypted-tbn1.gstatic.com/faviconV2?url=https://ticketwarehouse.com&client=HORIZON&size=96&type=FAVICON&fallback_opts=TYPE,SIZE,URL&nfrp=2}, {Ticketsource.com, https://www.ticketsource.com/2766609/Coldplay, https://encrypted-tbn0.gstatic.com/faviconV2?url=https://ticketsource.com&client=HORIZON&size=96&type=FAVICON&fallback_opts=TYPE,SIZE,URL&nfrp=2}, {Topstartickets.com, http://www.topstartickets.com/Event/Coldplay-D-Y-Patil-Sports-Stadium-2025-01-19-00-00-00-Tickets, https://encrypted-tbn2.gstatic.com/faviconV2?url=http://topstartickets.com&client=HORIZON&size=96&type=FAVICON&fallback_opts=TYPE,SIZE,URL&nfrp=2}], [{Spotify.com, https://open.spotify.com/concert/05iM34wganAzG1FBMA7ApW}], {0x3be7c3c53b1e255b:0x3fa8b73a42118233, D Y Patil Sports Stadium, +919920367847, https://dypatilstadium.com, 15105, 4.5, Stadium, [Stadium], D Y Patil Sports Stadium, Sector 7, Nerul, Navi Mumbai, Maharashtra 400706, India, 19.0420838, 73.0267849, Sector 7, Nerul, NULL, Navi Mumbai, 400706, Maharashtra, IN, Asia/Calcutta, /m/0263rsl, NULL}}                                                                                                                             |\n|OK    |fb21b62f-a4fa-43b6-88d0-c5f56ddf8e66|{concerts in india, false, any, 0}|{L2F1dGhvcml0eS9ob3Jpem9uL2NsdXN0ZXJlZF9ldmVudC8yMDI1LTAxLTE3fDExNzA4NjI3ODkwNjE4NzIyNzQ1, A.R. Rahman, https://open.spotify.com/concert/7uRZ84nrCxJenfACeC2WcR, Find tickets for A.R. Rahman at Jio World Garden in Mumbai on 1/17/2025 at 7:00 PM, en, Fri, Jan 17, 7 – 11 PM GMT+5:30, 2025-01-17 19:00:00, 2025-01-17 13:30:00, 1, 2025-01-17 23:00:00, 2025-01-17 17:30:00, 1, false, https://encrypted-tbn0.gstatic.com/images?q=tbn:ANd9GcTccnRRs835x3l8bdwWzzC3QQx00LgCUwqNLwXhLR2Zli7nOGK61ICxqzFoEXSA&s, Spotify.com, https://encrypted-tbn2.gstatic.com/faviconV2?url=https://open.spotify.com&client=HORIZON&size=96&type=FAVICON&fallback_opts=TYPE,SIZE,URL&nfrp=2, open.spotify.com, [{Spotify.com, https://open.spotify.com/concert/7uRZ84nrCxJenfACeC2WcR, https://encrypted-tbn2.gstatic.com/faviconV2?url=https://spotify.com&client=HORIZON&size=96&type=FAVICON&fallback_opts=TYPE,SIZE,URL&nfrp=2}, {Bandsintown.com, https://www.bandsintown.com/t/106038580?came_from=209, https://encrypted-tbn3.gstatic.com/faviconV2?url=https://bandsintown.com&client=HORIZON&size=96&type=FAVICON&fallback_opts=TYPE,SIZE,URL&nfrp=2}, {Shazam, https://www.shazam.com/event/25d29fbe-552f-4653-ac72-c2636c6ab25c, https://encrypted-tbn2.gstatic.com/faviconV2?url=https://shazam.com&client=HORIZON&size=96&type=FAVICON&fallback_opts=TYPE,SIZE,URL&nfrp=2}, {AllEvents, https://allevents.in/performer/a-r-rahman, https://encrypted-tbn2.gstatic.com/faviconV2?url=https://allevents.in&client=HORIZON&size=96&type=FAVICON&fallback_opts=TYPE,SIZE,URL&nfrp=2}, {StubHub, https://www.stubhub.com/a-r-rahman-tickets/performer/150412541, https://encrypted-tbn1.gstatic.com/faviconV2?url=https://stubhub.com&client=HORIZON&size=96&type=FAVICON&fallback_opts=TYPE,SIZE,URL&nfrp=2}], [{Spotify.com, https://open.spotify.com/concert/7uRZ84nrCxJenfACeC2WcR}], {0x3be7c90064e6b06d:0xa117f6f432847cb3, Jio World Garden, NULL, NULL, 294, 4.5, Event venue, [Event venue], No 3 & 4, Jio World Garden, Jio Garden Public Gate, G Block BKC, Bandra Kurla Complex, Bandra East, Mumbai, Maharashtra 400051, India, 19.0619813, 72.86244359999999, G Block BKC, Bandra Kurla Complex, Bandra East, No 3 & 4, Jio Garden Public Gate, Mumbai, 400051, Maharashtra, IN, Asia/Calcutta, /g/11vsf6rkkb, 3}}                                                                                                                                                                             |\n|OK    |fb21b62f-a4fa-43b6-88d0-c5f56ddf8e66|{concerts in india, false, any, 0}|{L2F1dGhvcml0eS9ob3Jpem9uL2NsdXN0ZXJlZF9ldmVudC8yMDI1LTAxLTE4fDE2NDE1NzcwNjczNTc4MTMwMDI0, Coldplay, https://www.bandsintown.com/de/e/105973572?app_id=ggl_feed&came_from=289&source=ea&event_id=105973572, Grammy award-winning band Coldplay will be bringing their critically acclaimed Music Of The Spheres World Tour to India in January 2025! Following the sellout success of Coldplay’s summer 2024..., en, Sat, Jan 18, 6 – 9 PM GMT+5:30, 2025-01-18 18:00:00, 2025-01-18 12:30:00, 1, 2025-01-18 21:00:00, 2025-01-18 15:30:00, 1, false, NULL, Bandsintown, https://encrypted-tbn2.gstatic.com/faviconV2?url=https://www.bandsintown.com&client=HORIZON&size=96&type=FAVICON&fallback_opts=TYPE,SIZE,URL&nfrp=2, www.bandsintown.com, [{Bandsintown.com, https://www.bandsintown.com/t/105973572?came_from=209, https://encrypted-tbn3.gstatic.com/faviconV2?url=https://bandsintown.com&client=HORIZON&size=96&type=FAVICON&fallback_opts=TYPE,SIZE,URL&nfrp=2}, {Stubhub.com, https://www.stubhub.com/_C-11654?pcid=PSUSAEVECONALLEF426C5CF9E&ps_p=8&ps_placement=eventfeed&ps=vn-27534&ps_ev=155410307&ps=cy-60741, https://encrypted-tbn1.gstatic.com/faviconV2?url=https://stubhub.com&client=HORIZON&size=96&type=FAVICON&fallback_opts=TYPE,SIZE,URL&nfrp=2}, {Viagogo.com, https://www.viagogo.com/_C-11654?pcid=PSUSAEVECONALLEF426C5CF9E&ps_p=8&ps_placement=eventfeed&ps=vn-27534&ps_ev=155410307&ps=cy-60741, https://encrypted-tbn0.gstatic.com/faviconV2?url=https://viagogo.com&client=HORIZON&size=96&type=FAVICON&fallback_opts=TYPE,SIZE,URL&nfrp=2}, {Shazam, https://www.shazam.com/event/7659048f-7d3a-4f31-85ad-6033719a9b88, https://encrypted-tbn2.gstatic.com/faviconV2?url=https://shazam.com&client=HORIZON&size=96&type=FAVICON&fallback_opts=TYPE,SIZE,URL&nfrp=2}, {AllEvents.in, https://allevents.in/mumbai/fireworks, https://encrypted-tbn2.gstatic.com/faviconV2?url=https://allevents.in&client=HORIZON&size=96&type=FAVICON&fallback_opts=TYPE,SIZE,URL&nfrp=2}], [NULL], {0x3be7c3c53b1e255b:0x3fa8b73a42118233, D Y Patil Sports Stadium, +919920367847, https://dypatilstadium.com, 15105, 4.5, Stadium, [Stadium], D Y Patil Sports Stadium, Sector 7, Nerul, Navi Mumbai, Maharashtra 400706, India, 19.0420838, 73.0267849, Sector 7, Nerul, NULL, Navi Mumbai, 400706, Maharashtra, IN, Asia/Calcutta, /m/0263rsl, NULL}}                                                                                                                        |\n+------+------------------------------------+----------------------------------+----------------------------------------------------------------------------------------------------------------------------------------------------------------------------------------------------------------------------------------------------------------------------------------------------------------------------------------------------------------------------------------------------------------------------------------------------------------------------------------------------------------------------------------------------------------------------------------------------------------------------------------------------------------------------------------------------------------------------------------------------------------------------------------------------------------------------------------------------------------------------------------------------------------------------------------------------------------------------------------------------------------------------------------------------------------------------------------------------------------------------------------------------------------------------------------------------------------------------------------------------------------------------------------------------------------------------------------------------------------------------------------------------------------------------------------------------------------------------------------------------------------------------------------------------------------------------------------------------------------------------------------------------------------------------------------------------------------------------------------------------------------------------------------------------------------------------------------------------------------------------------------------------------------------------------------------------------------------------------------------------------------------------------------------------------------------------------------------------------------------------------------------------------------------------------------------------------------------------------------------------------------------------------------------------------------------------------------------------------------------------------------------------------------------------------------------------------------------------------------------------------+\nonly showing top 5 rows\n",
					"output_type": "stream"
				}
			]
		},
		{
			"cell_type": "code",
			"source": "test_df.withColumn(\"data\", explode(\"data\")).select(\n    col(\"data.event_id\").alias(\"event_id\"),\n    col(\"data.name\").alias(\"artist_name\"),\n    col(\"data.description\").alias(\"description\"),\n    col(\"data.start_time\").cast(\"timestamp\").alias(\"event_start_time\"),\n    regexp_replace(col(\"data.venue.full_address\"), \",\", \"\").alias(\"venue_address\"),\n    col(\"data.venue.name\").alias(\"venue_name\"),\n    col(\"data.venue.phone_number\").alias(\"venue_phone_number\"),\n    col(\"data.link\").alias(\"link\")\n).show(1, False)",
			"metadata": {
				"trusted": true,
				"tags": []
			},
			"execution_count": 11,
			"outputs": [
				{
					"name": "stdout",
					"text": "+----------------------------------------------------------------------------------------+-----------------------------------------+--------------------------------------------------------------------------------------------+-------------------+----------------------------------------------------------------------------+------------------------+------------------+-------------------------------------------------------+\n|event_id                                                                                |artist_name                              |description                                                                                 |event_start_time   |venue_address                                                               |venue_name              |venue_phone_number|link                                                   |\n+----------------------------------------------------------------------------------------+-----------------------------------------+--------------------------------------------------------------------------------------------+-------------------+----------------------------------------------------------------------------+------------------------+------------------+-------------------------------------------------------+\n|L2F1dGhvcml0eS9ob3Jpem9uL2NsdXN0ZXJlZF9ldmVudC8yMDI1LTAxLTIxfDE1ODg5ODE4Njc1MjU2MzYyMzgz|Coldplay: Music Of The Spheres World Tour|Find tickets for Coldplay at D Y Patil Sports Stadium in Navi Mumbai on 1/21/2025 at 6:00 PM|2025-01-21 18:00:00|D Y Patil Sports Stadium Sector 7 Nerul Navi Mumbai Maharashtra 400706 India|D Y Patil Sports Stadium|+919920367847     |https://open.spotify.com/concert/533w7zYTqm5FpqaNvpVR6I|\n+----------------------------------------------------------------------------------------+-----------------------------------------+--------------------------------------------------------------------------------------------+-------------------+----------------------------------------------------------------------------+------------------------+------------------+-------------------------------------------------------+\nonly showing top 1 row\n",
					"output_type": "stream"
				}
			]
		},
		{
			"cell_type": "code",
			"source": "def real_time_events_data(df):\n    df = df.withColumn(\"data\", explode(\"data\"))\n    df = df.select(\n        col(\"data.event_id\").alias(\"event_id\"),\n        col(\"data.name\").alias(\"artist_name\"),\n        col(\"data.description\").alias(\"description\"),\n        col(\"data.start_time\").cast(\"timestamp\").alias(\"event_start_time\"),\n        regexp_replace(col(\"data.venue.full_address\"), \",\", \"\").alias(\"venue_address\"),\n        col(\"data.venue.name\").alias(\"venue_name\"),\n        col(\"data.venue.phone_number\").alias(\"venue_phone_number\"),\n        col(\"data.link\").alias(\"link\")\n    )\n    return df",
			"metadata": {
				"trusted": true,
				"tags": []
			},
			"execution_count": 12,
			"outputs": [
				{
					"name": "stdout",
					"text": "\n",
					"output_type": "stream"
				}
			]
		},
		{
			"cell_type": "code",
			"source": "real_time_events_processed_df = real_time_events_data(test_df)",
			"metadata": {
				"trusted": true,
				"tags": []
			},
			"execution_count": 13,
			"outputs": [
				{
					"name": "stdout",
					"text": "\n",
					"output_type": "stream"
				}
			]
		},
		{
			"cell_type": "code",
			"source": "def write_to_s3(df, s3_path, format_type=\"csv\"):\n    dynamic_frame = DynamicFrame.fromDF(df, glueContext, \"dynamic_frame\")\n    \n    glueContext.write_dynamic_frame.from_options(\n        frame=dynamic_frame,\n        connection_type=\"s3\",\n        connection_options={\"path\": f\"s3://real-time-events-search-amar/transformed_data/{s3_path}/\"},\n        format=format_type\n    )",
			"metadata": {
				"trusted": true,
				"tags": []
			},
			"execution_count": 14,
			"outputs": [
				{
					"name": "stdout",
					"text": "\n",
					"output_type": "stream"
				}
			]
		},
		{
			"cell_type": "code",
			"source": "write_to_s3(real_time_events_processed_df, \"transformed_data_{}\".format(datetime.now().strftime(\"%Y-%m-%d_%H-%M-%S\")), \"csv\")",
			"metadata": {
				"trusted": true,
				"tags": []
			},
			"execution_count": 15,
			"outputs": [
				{
					"name": "stdout",
					"text": "\n",
					"output_type": "stream"
				}
			]
		},
		{
			"cell_type": "code",
			"source": "",
			"metadata": {},
			"execution_count": null,
			"outputs": []
		}
	]
}